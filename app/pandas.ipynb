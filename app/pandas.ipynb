{
 "cells": [
  {
   "cell_type": "markdown",
   "metadata": {
    "collapsed": false
   },
   "source": [
    "# Pandas"
   ]
  },
  {
   "cell_type": "markdown",
   "metadata": {
    "collapsed": false
   },
   "source": [
    "## Task 1\n",
    "\n",
    "You should import the necessary libraries. You will use `numpy` and `pandas` libraries.\n",
    "\n",
    "\n",
    "> Don't forget to import `numpy`, and `pandas` in short form."
   ]
  },
  {
   "cell_type": "code",
   "execution_count": 5,
   "metadata": {
    "ExecuteTime": {
     "end_time": "2023-07-05T09:17:54.769352Z",
     "start_time": "2023-07-05T09:17:54.758355Z"
    },
    "collapsed": true
   },
   "outputs": [],
   "source": [
    "import numpy as np\n",
    "import pandas as pd"
   ]
  },
  {
   "cell_type": "markdown",
   "metadata": {
    "collapsed": false
   },
   "source": [
    "## Task 2\n",
    "\n",
    "Create a `DataFrame` from the given dictionary `data`."
   ]
  },
  {
   "cell_type": "code",
   "execution_count": 6,
   "metadata": {
    "ExecuteTime": {
     "end_time": "2023-07-05T09:10:41.527557Z",
     "start_time": "2023-07-05T09:10:41.522095Z"
    },
    "collapsed": false
   },
   "outputs": [],
   "source": [
    "data = {\n",
    "    \"Name\": [\"John\", \"Emily\", \"Ryan\"],\n",
    "    \"Age\": [16, 28, 22],\n",
    "    \"City\": [\"New York\", \"Los Angeles\", \"Chicago\"],\n",
    "}\n",
    "\n",
    "df = pd.DataFrame(data)"
   ]
  },
  {
   "cell_type": "markdown",
   "metadata": {
    "collapsed": false
   },
   "source": [
    "## Task 3\n",
    "\n",
    "In this task you should complete the following steps:"
   ]
  },
  {
   "cell_type": "markdown",
   "metadata": {
    "collapsed": false
   },
   "source": [
    "### Task 3.1\n",
    "Display all data for `Age` column for the DataFrame you created in the previous task."
   ]
  },
  {
   "cell_type": "code",
   "execution_count": 30,
   "metadata": {
    "ExecuteTime": {
     "end_time": "2023-07-05T09:17:45.528605Z",
     "start_time": "2023-07-05T09:17:45.520619Z"
    },
    "collapsed": false
   },
   "outputs": [
    {
     "data": {
      "text/plain": [
       "0    16\n",
       "1    28\n",
       "2    22\n",
       "Name: Age, dtype: int64"
      ]
     },
     "execution_count": 30,
     "metadata": {},
     "output_type": "execute_result"
    }
   ],
   "source": [
    "df[\"Age\"]"
   ]
  },
  {
   "cell_type": "markdown",
   "metadata": {
    "collapsed": false
   },
   "source": [
    "### Task 3.2\n",
    "\n",
    "Add `Salary` column to the `DataFrame` with the values `[50000, 60000, 45000]`."
   ]
  },
  {
   "cell_type": "code",
   "execution_count": 29,
   "metadata": {
    "ExecuteTime": {
     "end_time": "2023-07-05T09:17:47.429688Z",
     "start_time": "2023-07-05T09:17:47.417780Z"
    },
    "collapsed": false
   },
   "outputs": [],
   "source": [
    "df[\"Salary\"] = [50000, 60000, 45000]"
   ]
  },
  {
   "cell_type": "markdown",
   "metadata": {
    "collapsed": false
   },
   "source": [
    "### Task 3.3\n",
    "\n",
    "Filter the `DataFrame` to show only the rows with the `Age` greater than 18."
   ]
  },
  {
   "cell_type": "code",
   "execution_count": 28,
   "metadata": {
    "ExecuteTime": {
     "end_time": "2023-07-05T09:17:50.594551Z",
     "start_time": "2023-07-05T09:17:50.580721Z"
    },
    "collapsed": false
   },
   "outputs": [
    {
     "data": {
      "text/html": [
       "<div>\n",
       "<style scoped>\n",
       "    .dataframe tbody tr th:only-of-type {\n",
       "        vertical-align: middle;\n",
       "    }\n",
       "\n",
       "    .dataframe tbody tr th {\n",
       "        vertical-align: top;\n",
       "    }\n",
       "\n",
       "    .dataframe thead th {\n",
       "        text-align: right;\n",
       "    }\n",
       "</style>\n",
       "<table border=\"1\" class=\"dataframe\">\n",
       "  <thead>\n",
       "    <tr style=\"text-align: right;\">\n",
       "      <th></th>\n",
       "      <th>Name</th>\n",
       "      <th>Age</th>\n",
       "      <th>City</th>\n",
       "      <th>Salary</th>\n",
       "      <th>Birth year</th>\n",
       "      <th>Average age</th>\n",
       "    </tr>\n",
       "  </thead>\n",
       "  <tbody>\n",
       "    <tr>\n",
       "      <th>1</th>\n",
       "      <td>Emily</td>\n",
       "      <td>28</td>\n",
       "      <td>Los Angeles</td>\n",
       "      <td>60000</td>\n",
       "      <td>1996</td>\n",
       "      <td>22.0</td>\n",
       "    </tr>\n",
       "    <tr>\n",
       "      <th>2</th>\n",
       "      <td>Ryan</td>\n",
       "      <td>22</td>\n",
       "      <td>Chicago</td>\n",
       "      <td>45000</td>\n",
       "      <td>2002</td>\n",
       "      <td>22.0</td>\n",
       "    </tr>\n",
       "  </tbody>\n",
       "</table>\n",
       "</div>"
      ],
      "text/plain": [
       "    Name  Age         City  Salary  Birth year  Average age\n",
       "1  Emily   28  Los Angeles   60000        1996         22.0\n",
       "2   Ryan   22      Chicago   45000        2002         22.0"
      ]
     },
     "execution_count": 28,
     "metadata": {},
     "output_type": "execute_result"
    }
   ],
   "source": [
    "df[df[\"Age\"] > 18]"
   ]
  },
  {
   "cell_type": "markdown",
   "metadata": {
    "collapsed": false
   },
   "source": [
    "## Task 4\n",
    "\n",
    "In this task you should complete the following steps:"
   ]
  },
  {
   "cell_type": "markdown",
   "metadata": {
    "collapsed": false
   },
   "source": [
    "### Task 4.1\n",
    "\n",
    "Add new calculated field `Birth year`;"
   ]
  },
  {
   "cell_type": "code",
   "execution_count": 15,
   "metadata": {
    "ExecuteTime": {
     "end_time": "2023-07-05T09:25:45.002591Z",
     "start_time": "2023-07-05T09:25:44.991205Z"
    },
    "collapsed": false
   },
   "outputs": [],
   "source": [
    "df[\"Birth year\"] = 2024 - df[\"Age\"]\n"
   ]
  },
  {
   "cell_type": "markdown",
   "metadata": {
    "collapsed": false
   },
   "source": [
    "### Task 4.2\n",
    "\n",
    "Add new calculated field `Average age`."
   ]
  },
  {
   "cell_type": "code",
   "execution_count": 16,
   "metadata": {
    "ExecuteTime": {
     "end_time": "2023-07-05T09:25:46.812674Z",
     "start_time": "2023-07-05T09:25:46.807472Z"
    },
    "collapsed": false
   },
   "outputs": [
    {
     "name": "stdout",
     "output_type": "stream",
     "text": [
      "    Name  Age         City  Salary  Birth year  Average age\n",
      "0   John   16     New York   50000        2008         22.0\n",
      "1  Emily   28  Los Angeles   60000        1996         22.0\n",
      "2   Ryan   22      Chicago   45000        2002         22.0\n"
     ]
    }
   ],
   "source": [
    "df[\"Average age\"] = df[\"Age\"].mean()"
   ]
  },
  {
   "cell_type": "markdown",
   "metadata": {
    "collapsed": false
   },
   "source": [
    "### Task 4.3\n",
    "\n",
    "Calculate absolute difference between `Age` and `Average age`."
   ]
  },
  {
   "cell_type": "code",
   "execution_count": 17,
   "metadata": {
    "ExecuteTime": {
     "end_time": "2023-07-06T09:34:41.440030Z",
     "start_time": "2023-07-06T09:34:41.432036Z"
    },
    "collapsed": false
   },
   "outputs": [
    {
     "data": {
      "text/plain": [
       "0    6.0\n",
       "1    6.0\n",
       "2    0.0\n",
       "dtype: float64"
      ]
     },
     "execution_count": 17,
     "metadata": {},
     "output_type": "execute_result"
    }
   ],
   "source": [
    "abs(df[\"Age\"] - df[\"Average age\"])"
   ]
  },
  {
   "cell_type": "markdown",
   "metadata": {
    "collapsed": false
   },
   "source": [
    "## Task 5\n",
    "\n",
    "Complete the following tasks described below."
   ]
  },
  {
   "cell_type": "markdown",
   "metadata": {
    "collapsed": false
   },
   "source": [
    "### Task 5.1\n",
    "\n",
    "You have two dictionaries `data1` and `data2`. Create two `DataFrame` objects from these dictionaries. Then, `concatenate`, and `merge` these two `DataFrame` objects into one `DataFrame` object, and see the difference."
   ]
  },
  {
   "cell_type": "code",
   "execution_count": 37,
   "metadata": {
    "ExecuteTime": {
     "end_time": "2023-07-05T09:41:32.371132Z",
     "start_time": "2023-07-05T09:41:32.366179Z"
    },
    "collapsed": false
   },
   "outputs": [],
   "source": [
    "# Data\n",
    "data1 = {'Name': ['John', 'Emily', 'Ryan'],\n",
    "         'Age': [25, 28, 22]}\n",
    "data2 = {'Name': ['Emily', 'Ryan', 'Mike'],\n",
    "         'City': ['Los Angeles', 'Chicago', 'Houston']}\n",
    "\n",
    "df1 = pd.DataFrame(data1)\n",
    "df2 = pd.DataFrame(data2)"
   ]
  },
  {
   "cell_type": "code",
   "execution_count": 26,
   "metadata": {
    "ExecuteTime": {
     "end_time": "2023-07-05T09:41:41.152019Z",
     "start_time": "2023-07-05T09:41:41.137327Z"
    },
    "collapsed": false
   },
   "outputs": [
    {
     "name": "stdout",
     "output_type": "stream",
     "text": [
      "    Name   Age         City\n",
      "0  Emily  28.0  Los Angeles\n",
      "1   John  25.0          NaN\n",
      "2   Mike   NaN      Houston\n",
      "3   Ryan  22.0      Chicago\n"
     ]
    }
   ],
   "source": [
    "pd.merge(df1, df2, on=\"Name\", how=\"outer\")"
   ]
  },
  {
   "cell_type": "code",
   "execution_count": 27,
   "metadata": {
    "ExecuteTime": {
     "end_time": "2023-07-05T09:41:47.734380Z",
     "start_time": "2023-07-05T09:41:47.731660Z"
    },
    "collapsed": false
   },
   "outputs": [
    {
     "data": {
      "text/html": [
       "<div>\n",
       "<style scoped>\n",
       "    .dataframe tbody tr th:only-of-type {\n",
       "        vertical-align: middle;\n",
       "    }\n",
       "\n",
       "    .dataframe tbody tr th {\n",
       "        vertical-align: top;\n",
       "    }\n",
       "\n",
       "    .dataframe thead th {\n",
       "        text-align: right;\n",
       "    }\n",
       "</style>\n",
       "<table border=\"1\" class=\"dataframe\">\n",
       "  <thead>\n",
       "    <tr style=\"text-align: right;\">\n",
       "      <th></th>\n",
       "      <th>Name</th>\n",
       "      <th>Age</th>\n",
       "      <th>City</th>\n",
       "    </tr>\n",
       "  </thead>\n",
       "  <tbody>\n",
       "    <tr>\n",
       "      <th>0</th>\n",
       "      <td>John</td>\n",
       "      <td>25.0</td>\n",
       "      <td>NaN</td>\n",
       "    </tr>\n",
       "    <tr>\n",
       "      <th>1</th>\n",
       "      <td>Emily</td>\n",
       "      <td>28.0</td>\n",
       "      <td>NaN</td>\n",
       "    </tr>\n",
       "    <tr>\n",
       "      <th>2</th>\n",
       "      <td>Ryan</td>\n",
       "      <td>22.0</td>\n",
       "      <td>NaN</td>\n",
       "    </tr>\n",
       "    <tr>\n",
       "      <th>3</th>\n",
       "      <td>Emily</td>\n",
       "      <td>NaN</td>\n",
       "      <td>Los Angeles</td>\n",
       "    </tr>\n",
       "    <tr>\n",
       "      <th>4</th>\n",
       "      <td>Ryan</td>\n",
       "      <td>NaN</td>\n",
       "      <td>Chicago</td>\n",
       "    </tr>\n",
       "    <tr>\n",
       "      <th>5</th>\n",
       "      <td>Mike</td>\n",
       "      <td>NaN</td>\n",
       "      <td>Houston</td>\n",
       "    </tr>\n",
       "  </tbody>\n",
       "</table>\n",
       "</div>"
      ],
      "text/plain": [
       "    Name   Age         City\n",
       "0   John  25.0          NaN\n",
       "1  Emily  28.0          NaN\n",
       "2   Ryan  22.0          NaN\n",
       "3  Emily   NaN  Los Angeles\n",
       "4   Ryan   NaN      Chicago\n",
       "5   Mike   NaN      Houston"
      ]
     },
     "execution_count": 27,
     "metadata": {},
     "output_type": "execute_result"
    }
   ],
   "source": [
    "pd.concat([df1, df2], ignore_index=True)\n"
   ]
  },
  {
   "cell_type": "markdown",
   "metadata": {
    "collapsed": false
   },
   "source": [
    "### Task 5.2\n",
    "\n",
    "You have two `Series` objects `s1` and `s2`. Make default mathematical operations on these two `Series` objects. Such as `+`, `-`, `*`, `/`, `**`, `//`, `%`. Also, filter `s1` and print only even numbers, and `s2` only with odd numbers.\n"
   ]
  },
  {
   "cell_type": "code",
   "execution_count": 39,
   "metadata": {
    "collapsed": false
   },
   "outputs": [],
   "source": [
    "s1 = pd.Series([1, 2, 3, 4, 5])\n",
    "s2 = pd.Series([6, 7, 8, 9, 10])"
   ]
  },
  {
   "cell_type": "code",
   "execution_count": 40,
   "metadata": {
    "collapsed": false
   },
   "outputs": [
    {
     "data": {
      "text/plain": [
       "0     7\n",
       "1     9\n",
       "2    11\n",
       "3    13\n",
       "4    15\n",
       "dtype: int64"
      ]
     },
     "execution_count": 40,
     "metadata": {},
     "output_type": "execute_result"
    }
   ],
   "source": [
    "s1 + s2"
   ]
  },
  {
   "cell_type": "code",
   "execution_count": 41,
   "metadata": {
    "collapsed": false
   },
   "outputs": [
    {
     "data": {
      "text/plain": [
       "0   -5\n",
       "1   -5\n",
       "2   -5\n",
       "3   -5\n",
       "4   -5\n",
       "dtype: int64"
      ]
     },
     "execution_count": 41,
     "metadata": {},
     "output_type": "execute_result"
    }
   ],
   "source": [
    "s1 - s2"
   ]
  },
  {
   "cell_type": "code",
   "execution_count": 42,
   "metadata": {
    "collapsed": false
   },
   "outputs": [
    {
     "data": {
      "text/plain": [
       "0     6\n",
       "1    14\n",
       "2    24\n",
       "3    36\n",
       "4    50\n",
       "dtype: int64"
      ]
     },
     "execution_count": 42,
     "metadata": {},
     "output_type": "execute_result"
    }
   ],
   "source": [
    "s1 * s2"
   ]
  },
  {
   "cell_type": "code",
   "execution_count": 43,
   "metadata": {
    "collapsed": false
   },
   "outputs": [
    {
     "data": {
      "text/plain": [
       "0    0.166667\n",
       "1    0.285714\n",
       "2    0.375000\n",
       "3    0.444444\n",
       "4    0.500000\n",
       "dtype: float64"
      ]
     },
     "execution_count": 43,
     "metadata": {},
     "output_type": "execute_result"
    }
   ],
   "source": [
    "s1 / s2"
   ]
  },
  {
   "cell_type": "code",
   "execution_count": 44,
   "metadata": {
    "collapsed": false
   },
   "outputs": [
    {
     "data": {
      "text/plain": [
       "0          1\n",
       "1        128\n",
       "2       6561\n",
       "3     262144\n",
       "4    9765625\n",
       "dtype: int64"
      ]
     },
     "execution_count": 44,
     "metadata": {},
     "output_type": "execute_result"
    }
   ],
   "source": [
    "s1 ** s2"
   ]
  },
  {
   "cell_type": "code",
   "execution_count": 45,
   "metadata": {
    "collapsed": false
   },
   "outputs": [
    {
     "data": {
      "text/plain": [
       "0    0\n",
       "1    0\n",
       "2    0\n",
       "3    0\n",
       "4    0\n",
       "dtype: int64"
      ]
     },
     "execution_count": 45,
     "metadata": {},
     "output_type": "execute_result"
    }
   ],
   "source": [
    "s1 // s2"
   ]
  },
  {
   "cell_type": "code",
   "execution_count": 46,
   "metadata": {
    "collapsed": false
   },
   "outputs": [
    {
     "data": {
      "text/plain": [
       "0    1\n",
       "1    2\n",
       "2    3\n",
       "3    4\n",
       "4    5\n",
       "dtype: int64"
      ]
     },
     "execution_count": 46,
     "metadata": {},
     "output_type": "execute_result"
    }
   ],
   "source": [
    "s1 % s2"
   ]
  },
  {
   "cell_type": "code",
   "execution_count": 47,
   "metadata": {
    "collapsed": false
   },
   "outputs": [
    {
     "data": {
      "text/plain": [
       "1    2\n",
       "3    4\n",
       "dtype: int64"
      ]
     },
     "execution_count": 47,
     "metadata": {},
     "output_type": "execute_result"
    }
   ],
   "source": [
    "s1[s1 % 2 == 0]"
   ]
  },
  {
   "cell_type": "code",
   "execution_count": 49,
   "metadata": {
    "collapsed": false
   },
   "outputs": [
    {
     "data": {
      "text/plain": [
       "0     6\n",
       "2     8\n",
       "4    10\n",
       "dtype: int64"
      ]
     },
     "execution_count": 49,
     "metadata": {},
     "output_type": "execute_result"
    }
   ],
   "source": [
    "s2[s2 % 2 == 0]"
   ]
  },
  {
   "cell_type": "markdown",
   "metadata": {
    "collapsed": false
   },
   "source": [
    "### Task 5.3\n",
    "\n",
    "You have a `Serias` object `s`. Make the following operations on this `Series` object:\n",
    "\n",
    "* make all words in uppercase without loops;\n",
    "* get length of each word without loops.\n"
   ]
  },
  {
   "cell_type": "code",
   "execution_count": 50,
   "metadata": {
    "collapsed": false
   },
   "outputs": [],
   "source": [
    "s = pd.Series([\"numpy\", \"pandas\", \"matplotlib\"])"
   ]
  },
  {
   "cell_type": "code",
   "execution_count": 51,
   "metadata": {
    "collapsed": false
   },
   "outputs": [
    {
     "data": {
      "text/plain": [
       "0         NUMPY\n",
       "1        PANDAS\n",
       "2    MATPLOTLIB\n",
       "dtype: object"
      ]
     },
     "execution_count": 51,
     "metadata": {},
     "output_type": "execute_result"
    }
   ],
   "source": [
    "s.str.upper()"
   ]
  },
  {
   "cell_type": "code",
   "execution_count": 52,
   "metadata": {
    "collapsed": false
   },
   "outputs": [
    {
     "data": {
      "text/plain": [
       "0     5\n",
       "1     6\n",
       "2    10\n",
       "dtype: int64"
      ]
     },
     "execution_count": 52,
     "metadata": {},
     "output_type": "execute_result"
    }
   ],
   "source": [
    "s.str.len()"
   ]
  },
  {
   "cell_type": "markdown",
   "metadata": {
    "collapsed": false
   },
   "source": [
    "## Task 6 Optional\n",
    "\n",
    "You have a large dataset consisting of a series of numbers. Your task is to calculate the moving average of the series using a window of `5` elements. The moving average is the average of a set of consecutive values in the series, where the window `slides` through the series to compute the average at each position. The goal is to calculate the moving average efficiently and accurately. Also, compare time performance of Python and Pandas solutions.\n",
    "\n",
    "> Please, note: If you get `nan` while calculating the moving average, you should remove it from the result. Pandas solution should take 1-2 lines of code.\n"
   ]
  },
  {
   "cell_type": "markdown",
   "metadata": {
    "collapsed": false
   },
   "source": [
    "### Python Solution\n",
    "\n",
    "In the Python solution, a large dataset is generated using random numbers. The moving average is computed by iterating over the dataset using a loop. At each position, a window of 5 elements is created, and the average is calculated by summing the values in the window and dividing by 5."
   ]
  },
  {
   "cell_type": "code",
   "execution_count": 54,
   "metadata": {
    "collapsed": false
   },
   "outputs": [
    {
     "name": "stdout",
     "output_type": "stream",
     "text": [
      "CPU times: user 3.94 s, sys: 80.2 ms, total: 4.02 s\n",
      "Wall time: 4.04 s\n"
     ]
    },
    {
     "data": {
      "text/plain": [
       "[54.4, 63.6, 64.0, 60.4, 56.0, 61.8, 63.0, 72.6, 65.6, 55.2]"
      ]
     },
     "execution_count": 54,
     "metadata": {},
     "output_type": "execute_result"
    }
   ],
   "source": [
    "import random\n",
    "\n",
    "def unknown_signature():\n",
    "    # Generate a large dataset\n",
    "    data = [random.randint(1, 100) for _ in range(10000000)]\n",
    "\n",
    "    # Calculate the moving average with a window of 5\n",
    "    moving_averages = []\n",
    "    for i in range(4, len(data)):\n",
    "        window = data[i - 4 : i + 1]\n",
    "        average = sum(window) / 5\n",
    "        moving_averages.append(average)\n",
    "    return moving_averages[:10]\n",
    "\n",
    "%time unknown_signature()"
   ]
  },
  {
   "cell_type": "markdown",
   "metadata": {
    "collapsed": false
   },
   "source": [
    "### Solution using Pandas and Numpy\n"
   ]
  },
  {
   "cell_type": "code",
   "execution_count": 56,
   "metadata": {
    "collapsed": false
   },
   "outputs": [
    {
     "data": {
      "text/plain": [
       "[50.0,\n",
       " 40.0,\n",
       " 59.333333333333336,\n",
       " 61.25,\n",
       " 65.0,\n",
       " 69.0,\n",
       " 70.8,\n",
       " 56.0,\n",
       " 61.0,\n",
       " 55.8,\n",
       " 55.8,\n",
       " 67.6,\n",
       " 78.2,\n",
       " 60.8,\n",
       " 62.8,\n",
       " 62.6,\n",
       " 44.6,\n",
       " 36.6,\n",
       " 47.2,\n",
       " 47.4,\n",
       " 44.6,\n",
       " 49.2,\n",
       " 54.6,\n",
       " 50.8,\n",
       " 57.6,\n",
       " 64.8,\n",
       " 77.6,\n",
       " 76.2,\n",
       " 74.0,\n",
       " 61.4,\n",
       " 50.6,\n",
       " 46.8,\n",
       " 46.2,\n",
       " 47.6,\n",
       " 57.0,\n",
       " 58.0,\n",
       " 60.2,\n",
       " 66.4,\n",
       " 73.0,\n",
       " 66.4,\n",
       " 73.8,\n",
       " 64.0,\n",
       " 50.8,\n",
       " 45.8,\n",
       " 43.8,\n",
       " 41.6,\n",
       " 39.0,\n",
       " 48.8,\n",
       " 41.0,\n",
       " 49.8,\n",
       " 38.2,\n",
       " 42.6,\n",
       " 45.8,\n",
       " 62.8,\n",
       " 53.8,\n",
       " 52.4,\n",
       " 61.8,\n",
       " 54.2,\n",
       " 41.0,\n",
       " 47.8,\n",
       " 50.2,\n",
       " 36.4,\n",
       " 32.2,\n",
       " 32.8,\n",
       " 22.2,\n",
       " 37.8,\n",
       " 48.4,\n",
       " 59.4,\n",
       " 72.8,\n",
       " 72.8,\n",
       " 60.4,\n",
       " 47.8,\n",
       " 45.4,\n",
       " 46.4,\n",
       " 43.2,\n",
       " 42.0,\n",
       " 49.4,\n",
       " 43.6,\n",
       " 36.6,\n",
       " 47.8,\n",
       " 58.2,\n",
       " 64.2,\n",
       " 67.6,\n",
       " 62.0,\n",
       " 59.2,\n",
       " 58.8,\n",
       " 60.4,\n",
       " 63.2,\n",
       " 64.4,\n",
       " 64.8,\n",
       " 64.8,\n",
       " 51.0,\n",
       " 42.4,\n",
       " 34.6,\n",
       " 27.2,\n",
       " 16.4,\n",
       " 18.4,\n",
       " 26.8,\n",
       " 40.4,\n",
       " 53.2,\n",
       " 53.6,\n",
       " 61.6,\n",
       " 60.2,\n",
       " 65.6,\n",
       " 54.0,\n",
       " 56.4,\n",
       " 59.8,\n",
       " 67.4,\n",
       " 66.8,\n",
       " 64.4,\n",
       " 60.8,\n",
       " 51.0,\n",
       " 38.6,\n",
       " 34.8,\n",
       " 40.4,\n",
       " 49.2,\n",
       " 54.0,\n",
       " 66.2,\n",
       " 61.0,\n",
       " 55.8,\n",
       " 45.0,\n",
       " 33.8,\n",
       " 30.6,\n",
       " 26.2,\n",
       " 31.8,\n",
       " 31.2,\n",
       " 48.2,\n",
       " 49.6,\n",
       " 60.4,\n",
       " 62.0,\n",
       " 73.0,\n",
       " 64.6,\n",
       " 60.8,\n",
       " 51.2,\n",
       " 45.8,\n",
       " 35.6,\n",
       " 44.6,\n",
       " 46.4,\n",
       " 44.4,\n",
       " 56.6,\n",
       " 74.8,\n",
       " 58.2,\n",
       " 58.0,\n",
       " 67.0,\n",
       " 69.8,\n",
       " 56.8,\n",
       " 67.8,\n",
       " 59.0,\n",
       " 54.2,\n",
       " 50.8,\n",
       " 47.6,\n",
       " 37.8,\n",
       " 35.6,\n",
       " 31.6,\n",
       " 20.0,\n",
       " 21.6,\n",
       " 37.4,\n",
       " 38.2,\n",
       " 37.0,\n",
       " 46.0,\n",
       " 41.6,\n",
       " 34.8,\n",
       " 40.6,\n",
       " 37.2,\n",
       " 40.4,\n",
       " 43.4,\n",
       " 32.8,\n",
       " 37.2,\n",
       " 48.0,\n",
       " 39.8,\n",
       " 45.8,\n",
       " 52.8,\n",
       " 49.8,\n",
       " 57.8,\n",
       " 59.2,\n",
       " 66.4,\n",
       " 69.8,\n",
       " 74.0,\n",
       " 59.2,\n",
       " 65.6,\n",
       " 58.8,\n",
       " 63.0,\n",
       " 58.8,\n",
       " 57.2,\n",
       " 57.6,\n",
       " 50.6,\n",
       " 51.8,\n",
       " 48.0,\n",
       " 46.0,\n",
       " 47.6,\n",
       " 51.2,\n",
       " 40.6,\n",
       " 37.4,\n",
       " 51.4,\n",
       " 49.6,\n",
       " 52.2,\n",
       " 51.8,\n",
       " 66.0,\n",
       " 52.4,\n",
       " 45.2,\n",
       " 40.8,\n",
       " 40.2,\n",
       " 24.4,\n",
       " 37.4,\n",
       " 36.8,\n",
       " 38.4,\n",
       " 49.2,\n",
       " 63.4,\n",
       " 50.6,\n",
       " 53.2,\n",
       " 52.8,\n",
       " 51.8,\n",
       " 44.8,\n",
       " 59.8,\n",
       " 52.2,\n",
       " 61.0,\n",
       " 54.2,\n",
       " 57.8,\n",
       " 49.6,\n",
       " 52.6,\n",
       " 45.0,\n",
       " 44.6,\n",
       " 44.6,\n",
       " 40.0,\n",
       " 53.2,\n",
       " 59.2,\n",
       " 66.0,\n",
       " 57.8,\n",
       " 56.8,\n",
       " 49.2,\n",
       " 53.8,\n",
       " 45.2,\n",
       " 56.4,\n",
       " 67.8,\n",
       " 70.4,\n",
       " 59.2,\n",
       " 63.4,\n",
       " 64.6,\n",
       " 55.4,\n",
       " 57.2,\n",
       " 62.6,\n",
       " 60.4,\n",
       " 49.2,\n",
       " 59.6,\n",
       " 55.2,\n",
       " 45.2,\n",
       " 44.4,\n",
       " 44.2,\n",
       " 38.0,\n",
       " 45.6,\n",
       " 62.4,\n",
       " 61.8,\n",
       " 66.8,\n",
       " 73.0,\n",
       " 68.0,\n",
       " 63.8,\n",
       " 61.2,\n",
       " 49.6,\n",
       " 40.2,\n",
       " 33.2,\n",
       " 20.0,\n",
       " 29.8,\n",
       " 37.8,\n",
       " 37.6,\n",
       " 44.8,\n",
       " 52.0,\n",
       " 46.2,\n",
       " 53.6,\n",
       " 57.2,\n",
       " 49.0,\n",
       " 41.2,\n",
       " 44.4,\n",
       " 33.4,\n",
       " 32.2,\n",
       " 41.4,\n",
       " 48.8,\n",
       " 42.8,\n",
       " 43.0,\n",
       " 41.0,\n",
       " 42.2,\n",
       " 52.0,\n",
       " 54.0,\n",
       " 52.8,\n",
       " 49.4,\n",
       " 47.8,\n",
       " 45.2,\n",
       " 38.2,\n",
       " 33.8,\n",
       " 50.4,\n",
       " 41.0,\n",
       " 37.2,\n",
       " 46.6,\n",
       " 54.0,\n",
       " 54.0,\n",
       " 51.0,\n",
       " 43.4,\n",
       " 48.2,\n",
       " 41.6,\n",
       " 36.2,\n",
       " 47.2,\n",
       " 58.6,\n",
       " 51.0,\n",
       " 66.4,\n",
       " 58.6,\n",
       " 65.6,\n",
       " 64.4,\n",
       " 69.0,\n",
       " 54.4,\n",
       " 60.0,\n",
       " 48.2,\n",
       " 52.4,\n",
       " 41.2,\n",
       " 43.8,\n",
       " 49.2,\n",
       " 59.0,\n",
       " 46.8,\n",
       " 56.0,\n",
       " 61.0,\n",
       " 60.6,\n",
       " 60.8,\n",
       " 62.6,\n",
       " 70.6,\n",
       " 81.0,\n",
       " 80.8,\n",
       " 74.8,\n",
       " 83.2,\n",
       " 74.2,\n",
       " 71.2,\n",
       " 72.0,\n",
       " 61.4,\n",
       " 53.8,\n",
       " 50.4,\n",
       " 48.8,\n",
       " 51.8,\n",
       " 68.2,\n",
       " 71.6,\n",
       " 76.0,\n",
       " 80.0,\n",
       " 74.8,\n",
       " 63.8,\n",
       " 65.2,\n",
       " 56.0,\n",
       " 42.4,\n",
       " 27.8,\n",
       " 40.4,\n",
       " 36.6,\n",
       " 47.8,\n",
       " 60.4,\n",
       " 80.2,\n",
       " 63.0,\n",
       " 53.6,\n",
       " 41.8,\n",
       " 34.0,\n",
       " 16.6,\n",
       " 33.6,\n",
       " 38.8,\n",
       " 50.2,\n",
       " 47.6,\n",
       " 57.4,\n",
       " 41.6,\n",
       " 37.2,\n",
       " 32.2,\n",
       " 37.4,\n",
       " 35.2,\n",
       " 36.2,\n",
       " 42.2,\n",
       " 54.4,\n",
       " 43.2,\n",
       " 52.4,\n",
       " 53.2,\n",
       " 47.2,\n",
       " 36.4,\n",
       " 48.0,\n",
       " 41.2,\n",
       " 38.8,\n",
       " 55.2,\n",
       " 64.2,\n",
       " 62.2,\n",
       " 69.6,\n",
       " 74.0,\n",
       " 64.6,\n",
       " 64.0,\n",
       " 53.8,\n",
       " 38.2,\n",
       " 32.8,\n",
       " 36.2,\n",
       " 27.2,\n",
       " 32.6,\n",
       " 43.6,\n",
       " 51.6,\n",
       " 50.8,\n",
       " 52.4,\n",
       " 57.2,\n",
       " 61.4,\n",
       " 66.4,\n",
       " 66.0,\n",
       " 57.6,\n",
       " 49.4,\n",
       " 33.2,\n",
       " 25.4,\n",
       " 15.4,\n",
       " 24.8,\n",
       " 35.4,\n",
       " 37.8,\n",
       " 40.0,\n",
       " 50.8,\n",
       " 49.4,\n",
       " 39.6,\n",
       " 53.8,\n",
       " 55.6,\n",
       " 60.4,\n",
       " 70.0,\n",
       " 75.0,\n",
       " 72.0,\n",
       " 65.0,\n",
       " 59.4,\n",
       " 53.0,\n",
       " 60.0,\n",
       " 53.8,\n",
       " 60.0,\n",
       " 62.8,\n",
       " 66.8,\n",
       " 55.0,\n",
       " 45.0,\n",
       " 41.8,\n",
       " 40.2,\n",
       " 33.6,\n",
       " 35.8,\n",
       " 51.8,\n",
       " 55.8,\n",
       " 62.2,\n",
       " 68.0,\n",
       " 66.4,\n",
       " 56.2,\n",
       " 53.8,\n",
       " 48.2,\n",
       " 47.0,\n",
       " 49.6,\n",
       " 52.4,\n",
       " 57.6,\n",
       " 47.0,\n",
       " 37.2,\n",
       " 47.8,\n",
       " 53.8,\n",
       " 53.4,\n",
       " 56.4,\n",
       " 57.4,\n",
       " 54.0,\n",
       " 57.4,\n",
       " 50.2,\n",
       " 54.2,\n",
       " 55.0,\n",
       " 48.8,\n",
       " 38.8,\n",
       " 48.8,\n",
       " 50.8,\n",
       " 54.0,\n",
       " 47.4,\n",
       " 54.8,\n",
       " 40.6,\n",
       " 41.0,\n",
       " 35.6,\n",
       " 34.0,\n",
       " 23.6,\n",
       " 40.2,\n",
       " 29.4,\n",
       " 36.2,\n",
       " 53.8,\n",
       " 58.0,\n",
       " 41.2,\n",
       " 48.4,\n",
       " 47.8,\n",
       " 37.4,\n",
       " 28.4,\n",
       " 40.4,\n",
       " 47.4,\n",
       " 48.6,\n",
       " 42.0,\n",
       " 51.6,\n",
       " 57.0,\n",
       " 52.8,\n",
       " 55.8,\n",
       " 69.6,\n",
       " 74.0,\n",
       " 56.8,\n",
       " 64.6,\n",
       " 68.0,\n",
       " 66.2,\n",
       " 61.4,\n",
       " 70.4,\n",
       " 54.2,\n",
       " 38.0,\n",
       " 38.0,\n",
       " 30.2,\n",
       " 37.4,\n",
       " 35.6,\n",
       " 40.4,\n",
       " 43.0,\n",
       " 47.6,\n",
       " 37.0,\n",
       " 55.6,\n",
       " 59.4,\n",
       " 47.8,\n",
       " 57.2,\n",
       " 50.2,\n",
       " 32.6,\n",
       " 39.6,\n",
       " 38.0,\n",
       " 34.0,\n",
       " 34.8,\n",
       " 53.4,\n",
       " 46.2,\n",
       " 53.6,\n",
       " 44.0,\n",
       " 55.0,\n",
       " 50.8,\n",
       " 52.4,\n",
       " 48.0,\n",
       " 47.8,\n",
       " 41.4,\n",
       " 26.8,\n",
       " 26.2,\n",
       " 40.2,\n",
       " 48.6,\n",
       " 54.0,\n",
       " 54.0,\n",
       " 62.6,\n",
       " 45.8,\n",
       " 37.8,\n",
       " 39.2,\n",
       " 38.4,\n",
       " 30.4,\n",
       " 42.4,\n",
       " 58.8,\n",
       " 58.0,\n",
       " 71.2,\n",
       " 70.6,\n",
       " 63.0,\n",
       " 61.4,\n",
       " 60.4,\n",
       " 51.8,\n",
       " 60.2,\n",
       " 70.2,\n",
       " 62.2,\n",
       " 53.2,\n",
       " 68.0,\n",
       " 63.0,\n",
       " 64.0,\n",
       " 62.0,\n",
       " 67.0,\n",
       " 50.4,\n",
       " 45.2,\n",
       " 46.2,\n",
       " 38.6,\n",
       " 35.0,\n",
       " 44.4,\n",
       " 53.8,\n",
       " 51.6,\n",
       " 58.8,\n",
       " 68.6,\n",
       " 61.8,\n",
       " 52.8,\n",
       " 54.8,\n",
       " 57.8,\n",
       " 47.6,\n",
       " 59.6,\n",
       " 51.6,\n",
       " 34.4,\n",
       " 33.6,\n",
       " 33.6,\n",
       " 34.6,\n",
       " 52.6,\n",
       " 64.2,\n",
       " 63.4,\n",
       " 61.4,\n",
       " 57.2,\n",
       " 51.8,\n",
       " 48.6,\n",
       " 46.0,\n",
       " 62.2,\n",
       " 57.2,\n",
       " 47.4,\n",
       " 51.2,\n",
       " 59.2,\n",
       " 53.6,\n",
       " 53.4,\n",
       " 50.4,\n",
       " 56.2,\n",
       " 59.2,\n",
       " 48.2,\n",
       " 40.6,\n",
       " 42.0,\n",
       " 26.6,\n",
       " 14.4,\n",
       " 18.4,\n",
       " 23.8,\n",
       " 32.0,\n",
       " 34.0,\n",
       " 33.2,\n",
       " 43.8,\n",
       " 39.8,\n",
       " 47.2,\n",
       " 49.6,\n",
       " 63.0,\n",
       " 57.2,\n",
       " 62.4,\n",
       " 61.0,\n",
       " 59.0,\n",
       " 42.0,\n",
       " 48.4,\n",
       " 48.0,\n",
       " 43.4,\n",
       " 41.4,\n",
       " 48.4,\n",
       " 36.0,\n",
       " 36.6,\n",
       " 38.2,\n",
       " 50.8,\n",
       " 54.8,\n",
       " 71.2,\n",
       " 77.0,\n",
       " 65.4,\n",
       " 51.8,\n",
       " 41.6,\n",
       " 33.2,\n",
       " 22.8,\n",
       " 34.2,\n",
       " 47.4,\n",
       " 52.8,\n",
       " 57.4,\n",
       " 54.0,\n",
       " 41.6,\n",
       " 31.6,\n",
       " 36.8,\n",
       " 27.6,\n",
       " 46.2,\n",
       " 51.0,\n",
       " 63.8,\n",
       " 60.4,\n",
       " 65.4,\n",
       " 58.4,\n",
       " 65.0,\n",
       " 47.8,\n",
       " 47.4,\n",
       " 49.8,\n",
       " 50.8,\n",
       " 45.6,\n",
       " 53.0,\n",
       " 57.0,\n",
       " 57.8,\n",
       " 47.8,\n",
       " 56.0,\n",
       " 51.2,\n",
       " 46.2,\n",
       " 34.0,\n",
       " 32.0,\n",
       " 35.8,\n",
       " 37.2,\n",
       " 47.0,\n",
       " 50.6,\n",
       " 65.6,\n",
       " 57.0,\n",
       " 51.4,\n",
       " 42.8,\n",
       " 53.8,\n",
       " 41.0,\n",
       " 37.4,\n",
       " 52.8,\n",
       " 58.4,\n",
       " 45.0,\n",
       " 59.8,\n",
       " 57.4,\n",
       " 48.4,\n",
       " 46.2,\n",
       " 52.4,\n",
       " 37.6,\n",
       " 40.6,\n",
       " 52.8,\n",
       " 52.8,\n",
       " 55.4,\n",
       " 62.6,\n",
       " 55.8,\n",
       " 56.6,\n",
       " 45.4,\n",
       " 33.2,\n",
       " 42.2,\n",
       " 50.4,\n",
       " 36.0,\n",
       " 53.8,\n",
       " 54.0,\n",
       " 51.2,\n",
       " 60.2,\n",
       " 72.4,\n",
       " 60.6,\n",
       " 69.0,\n",
       " 65.2,\n",
       " 66.2,\n",
       " 52.8,\n",
       " 52.4,\n",
       " 61.4,\n",
       " 60.6,\n",
       " 55.4,\n",
       " 56.2,\n",
       " 61.6,\n",
       " 61.0,\n",
       " 60.2,\n",
       " 55.0,\n",
       " 62.4,\n",
       " 60.2,\n",
       " 58.2,\n",
       " 57.0,\n",
       " 58.4,\n",
       " 53.4,\n",
       " 63.8,\n",
       " 56.4,\n",
       " 61.8,\n",
       " 70.6,\n",
       " 66.0,\n",
       " 51.4,\n",
       " 63.0,\n",
       " 63.6,\n",
       " 62.6,\n",
       " 79.2,\n",
       " 84.0,\n",
       " 81.8,\n",
       " 69.4,\n",
       " 53.4,\n",
       " 52.8,\n",
       " 54.2,\n",
       " 50.4,\n",
       " 61.6,\n",
       " 69.6,\n",
       " 50.8,\n",
       " 56.6,\n",
       " 56.8,\n",
       " 57.6,\n",
       " 63.6,\n",
       " 68.6,\n",
       " 53.8,\n",
       " 41.0,\n",
       " 38.8,\n",
       " 28.2,\n",
       " 24.4,\n",
       " 34.4,\n",
       " 48.2,\n",
       " 40.4,\n",
       " 51.4,\n",
       " 63.2,\n",
       " 65.6,\n",
       " 57.0,\n",
       " 70.0,\n",
       " 66.6,\n",
       " 71.2,\n",
       " 60.8,\n",
       " 63.0,\n",
       " 50.2,\n",
       " 49.6,\n",
       " 48.2,\n",
       " 47.2,\n",
       " 53.6,\n",
       " 52.4,\n",
       " 40.8,\n",
       " 44.4,\n",
       " 57.4,\n",
       " 53.2,\n",
       " 67.2,\n",
       " 72.4,\n",
       " 57.0,\n",
       " 59.4,\n",
       " 63.0,\n",
       " 52.0,\n",
       " 49.4,\n",
       " 45.4,\n",
       " 43.0,\n",
       " 44.2,\n",
       " 37.6,\n",
       " 53.2,\n",
       " 60.4,\n",
       " 50.4,\n",
       " 51.6,\n",
       " 59.4,\n",
       " 56.6,\n",
       " 66.6,\n",
       " 68.8,\n",
       " 53.2,\n",
       " 57.6,\n",
       " 49.0,\n",
       " 49.0,\n",
       " 53.0,\n",
       " 57.8,\n",
       " 62.8,\n",
       " 58.4,\n",
       " 54.2,\n",
       " 61.0,\n",
       " 58.8,\n",
       " 41.0,\n",
       " 56.6,\n",
       " 44.2,\n",
       " 37.6,\n",
       " 36.4,\n",
       " 46.2,\n",
       " 30.0,\n",
       " 31.6,\n",
       " 38.0,\n",
       " 47.8,\n",
       " 48.8,\n",
       " 55.8,\n",
       " 72.0,\n",
       " 71.0,\n",
       " 66.2,\n",
       " 61.6,\n",
       " 66.0,\n",
       " 49.6,\n",
       " 33.8,\n",
       " 26.4,\n",
       " 34.4,\n",
       " 32.6,\n",
       " 34.6,\n",
       " 45.6,\n",
       " 46.4,\n",
       " 34.8,\n",
       " 35.4,\n",
       " 47.0,\n",
       " 36.6,\n",
       " 46.6,\n",
       " 52.0,\n",
       " 48.2,\n",
       " 36.8,\n",
       " 46.6,\n",
       " 50.0,\n",
       " 52.8,\n",
       " 61.2,\n",
       " 63.6,\n",
       " 66.4,\n",
       " 66.4,\n",
       " 64.2,\n",
       " 65.2,\n",
       " 65.2,\n",
       " 50.0,\n",
       " 37.2,\n",
       " 44.4,\n",
       " 37.0,\n",
       " 35.6,\n",
       " 51.6,\n",
       " 66.6,\n",
       " 51.4,\n",
       " 58.0,\n",
       " 66.0,\n",
       " 69.6,\n",
       " 54.2,\n",
       " 53.2,\n",
       " 49.4,\n",
       " 44.6,\n",
       " 43.0,\n",
       " 41.8,\n",
       " 59.4,\n",
       " 50.6,\n",
       " 43.0,\n",
       " 39.0,\n",
       " 45.6,\n",
       " 37.8,\n",
       " 47.6,\n",
       " 61.0,\n",
       " 64.2,\n",
       " 59.0,\n",
       " 54.2,\n",
       " 46.4,\n",
       " 40.2,\n",
       " 34.4,\n",
       " 33.4,\n",
       " 32.6,\n",
       " 44.0,\n",
       " 39.2,\n",
       " 28.6,\n",
       " 33.0,\n",
       " 31.2,\n",
       " 25.6,\n",
       " 28.0,\n",
       " 31.6,\n",
       " 41.8,\n",
       " 43.8,\n",
       " 32.4,\n",
       " 44.0,\n",
       " 41.2,\n",
       " 39.6,\n",
       " 54.2,\n",
       " 62.8,\n",
       " 57.4,\n",
       " 71.2,\n",
       " 58.6,\n",
       " 56.6,\n",
       " 65.2,\n",
       " 72.6,\n",
       " 75.6,\n",
       " 75.6,\n",
       " 72.4,\n",
       " 63.6,\n",
       " 63.2,\n",
       " 46.0,\n",
       " 58.2,\n",
       " 49.0,\n",
       " 56.6,\n",
       " 42.2,\n",
       " 42.6,\n",
       " 39.4,\n",
       " 47.2,\n",
       " 39.8,\n",
       " 51.0,\n",
       " 63.8,\n",
       " 54.6,\n",
       " 48.4,\n",
       " 39.2,\n",
       " 35.0,\n",
       " 25.0,\n",
       " 37.0,\n",
       " 50.6,\n",
       " 64.8,\n",
       " 57.0,\n",
       " 69.2,\n",
       " 74.0,\n",
       " 64.6,\n",
       " 50.4,\n",
       " 59.0,\n",
       " 58.8,\n",
       " 59.8,\n",
       " 57.8,\n",
       " 76.6,\n",
       " 69.6,\n",
       " 64.2,\n",
       " 63.2,\n",
       " 63.0,\n",
       " 55.2,\n",
       " 53.2,\n",
       " 60.0,\n",
       " 44.2,\n",
       " 51.8,\n",
       " 49.8,\n",
       " 65.0,\n",
       " 49.8,\n",
       " 54.6,\n",
       " 45.2,\n",
       " 41.0,\n",
       " 26.2,\n",
       " 39.2,\n",
       " 45.2,\n",
       " 48.2,\n",
       " 48.2,\n",
       " 52.6,\n",
       " 46.6,\n",
       " 44.8,\n",
       " 53.2,\n",
       " 57.4,\n",
       " 52.0,\n",
       " 42.4,\n",
       " 36.6,\n",
       " 32.0,\n",
       " 34.4,\n",
       " 38.2,\n",
       " 52.0,\n",
       " 51.2,\n",
       " 55.6,\n",
       " 61.4,\n",
       " 60.2,\n",
       " 47.0,\n",
       " 48.6,\n",
       " 31.4,\n",
       " 26.4,\n",
       " 29.2,\n",
       " 47.6,\n",
       " 43.0,\n",
       " 49.4,\n",
       " 55.2,\n",
       " 64.8,\n",
       " 62.2,\n",
       " 79.2,\n",
       " 75.8,\n",
       " 69.6,\n",
       " 54.4,\n",
       " 43.8,\n",
       " 35.6,\n",
       " 34.8,\n",
       " 40.0,\n",
       " 42.8,\n",
       " 45.4,\n",
       " 38.4,\n",
       " 38.6,\n",
       " 35.0,\n",
       " 32.8,\n",
       " 39.6,\n",
       " 40.8,\n",
       " 57.8,\n",
       " 61.4,\n",
       " 74.2,\n",
       " 73.6,\n",
       " 79.4,\n",
       " 78.2,\n",
       " 61.2,\n",
       " 53.6,\n",
       " 39.8,\n",
       " 44.4,\n",
       " ...]"
      ]
     },
     "execution_count": 56,
     "metadata": {},
     "output_type": "execute_result"
    }
   ],
   "source": [
    "import random\n",
    "data = [random.randint(1, 100) for _ in range(10000000)]\n",
    "pd.Series(data).rolling(window=5, min_periods=1).mean().dropna().tolist()"
   ]
  }
 ],
 "metadata": {
  "kernelspec": {
   "display_name": "Python 3",
   "language": "python",
   "name": "python3"
  },
  "language_info": {
   "codemirror_mode": {
    "name": "ipython",
    "version": 3
   },
   "file_extension": ".py",
   "mimetype": "text/x-python",
   "name": "python",
   "nbconvert_exporter": "python",
   "pygments_lexer": "ipython3",
   "version": "3.12.4"
  }
 },
 "nbformat": 4,
 "nbformat_minor": 0
}
